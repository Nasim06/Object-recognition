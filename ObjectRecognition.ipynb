{
 "cells": [
  {
   "cell_type": "code",
   "execution_count": 1,
   "metadata": {},
   "outputs": [],
   "source": [
    "import numpy as np\n",
    "import matplotlib.pyplot as plt\n",
    "import tensorflow as tf\n",
    "from tensorflow.keras import layers, models\n",
    "from sklearn.metrics import confusion_matrix "
   ]
  },
  {
   "cell_type": "markdown",
   "metadata": {},
   "source": [
    "Loading the images and labels, then adjusting so that the data is in an easier format to work with"
   ]
  },
  {
   "cell_type": "code",
   "execution_count": 2,
   "metadata": {},
   "outputs": [],
   "source": [
    "Train_images = np.load('trnImage.npy')\n",
    "Train_labels = np.load('trnLabel.npy')\n",
    "Test_images = np.load('tstImage.npy')\n",
    "Test_labels = np.load('tstLabel.npy')\n",
    "Train_images = np.moveaxis(Train_images, 3, 0) \n",
    "Test_images = np.moveaxis(Test_images, 3, 0) \n",
    "Train_labels = Train_labels.reshape(-1,)\n",
    "Test_labels = Test_labels.reshape(-1,)"
   ]
  },
  {
   "cell_type": "markdown",
   "metadata": {},
   "source": [
    "This method is for ploting images"
   ]
  },
  {
   "cell_type": "code",
   "execution_count": 3,
   "metadata": {},
   "outputs": [],
   "source": [
    "def plotImage(images, labels, pos):\n",
    "    plt.figure(figsize = (15,2))\n",
    "    plt.imshow(images[:,:,:,pos])"
   ]
  },
  {
   "cell_type": "markdown",
   "metadata": {},
   "source": [
    "This is the artificial neural network, the values for number of neuron were decided upon through trial and error"
   ]
  },
  {
   "cell_type": "code",
   "execution_count": 4,
   "metadata": {},
   "outputs": [
    {
     "name": "stdout",
     "output_type": "stream",
     "text": [
      "Epoch 1/5\n",
      "313/313 [==============================] - 15s 49ms/step - loss: 2.0593 - accuracy: 0.24460s - loss: 2.0624 - \n",
      "Epoch 2/5\n",
      "313/313 [==============================] - 15s 49ms/step - loss: 1.8697 - accuracy: 0.3338\n",
      "Epoch 3/5\n",
      "313/313 [==============================] - 15s 49ms/step - loss: 1.7854 - accuracy: 0.3601\n",
      "Epoch 4/5\n",
      "313/313 [==============================] - 15s 48ms/step - loss: 1.7317 - accuracy: 0.3853\n",
      "Epoch 5/5\n",
      "313/313 [==============================] - 15s 49ms/step - loss: 1.6804 - accuracy: 0.4079\n"
     ]
    },
    {
     "data": {
      "text/plain": [
       "<tensorflow.python.keras.callbacks.History at 0x182b34e0d60>"
      ]
     },
     "execution_count": 4,
     "metadata": {},
     "output_type": "execute_result"
    }
   ],
   "source": [
    "ann = models.Sequential([\n",
    "        layers.Flatten(input_shape=(32,32,3)),\n",
    "        layers.Dense(2000, activation='relu'),\n",
    "        layers.Dense(500, activation='relu'),\n",
    "        layers.Dense(10, activation='sigmoid')    \n",
    "    ])\n",
    "\n",
    "ann.compile(optimizer='SGD',\n",
    "              loss='sparse_categorical_crossentropy',\n",
    "              metrics=['accuracy'])\n",
    "\n",
    "ann.fit(Train_images, Train_labels, epochs=5)"
   ]
  },
  {
   "cell_type": "markdown",
   "metadata": {},
   "source": [
    "Testing the ANN on the test set of images"
   ]
  },
  {
   "cell_type": "code",
   "execution_count": 5,
   "metadata": {},
   "outputs": [
    {
     "name": "stdout",
     "output_type": "stream",
     "text": [
      "32/32 [==============================] - 1s 17ms/step - loss: 1.8221 - accuracy: 0.3480\n"
     ]
    }
   ],
   "source": [
    "pred = ann.evaluate(Test_images, Test_labels)"
   ]
  },
  {
   "cell_type": "markdown",
   "metadata": {},
   "source": [
    "CNN accuracy of 34.8%"
   ]
  },
  {
   "cell_type": "markdown",
   "metadata": {},
   "source": [
    "The convolutional neural network with the first layer having 40 filters and the second having 80, using \n",
    "Max Pooling for dimensionality reduction"
   ]
  },
  {
   "cell_type": "code",
   "execution_count": 12,
   "metadata": {},
   "outputs": [
    {
     "name": "stdout",
     "output_type": "stream",
     "text": [
      "Epoch 1/5\n",
      "313/313 [==============================] - 13s 43ms/step - loss: 1.8443 - accuracy: 0.3246\n",
      "Epoch 2/5\n",
      "313/313 [==============================] - 10s 31ms/step - loss: 1.4694 - accuracy: 0.4675\n",
      "Epoch 3/5\n",
      "313/313 [==============================] - 13s 43ms/step - loss: 1.3208 - accuracy: 0.5325\n",
      "Epoch 4/5\n",
      "313/313 [==============================] - 13s 43ms/step - loss: 1.1951 - accuracy: 0.5776\n",
      "Epoch 5/5\n",
      "313/313 [==============================] - 13s 43ms/step - loss: 1.1158 - accuracy: 0.6057\n"
     ]
    },
    {
     "data": {
      "text/plain": [
       "<tensorflow.python.keras.callbacks.History at 0x182b8c27bb0>"
      ]
     },
     "execution_count": 12,
     "metadata": {},
     "output_type": "execute_result"
    }
   ],
   "source": [
    "cnn = models.Sequential([\n",
    "    layers.Conv2D(filters=40, kernel_size=(3, 3), activation='relu', input_shape=(32, 32, 3)),\n",
    "    layers.MaxPooling2D((2, 2)),\n",
    "    layers.Conv2D(filters=80, kernel_size=(3, 3), activation='relu'),\n",
    "    layers.MaxPooling2D((2, 2)),\n",
    "    layers.Flatten(),\n",
    "    layers.Dense(60, activation='relu'),\n",
    "    layers.Dense(10, activation='softmax')\n",
    "])\n",
    "cnn.compile(optimizer='adam',\n",
    "              loss='sparse_categorical_crossentropy',\n",
    "              metrics=['accuracy'])\n",
    "\n",
    "cnn.fit(Train_images, Train_labels, epochs=5)"
   ]
  },
  {
   "cell_type": "markdown",
   "metadata": {},
   "source": [
    "Evaluating the CNN on the test data"
   ]
  },
  {
   "cell_type": "code",
   "execution_count": 15,
   "metadata": {},
   "outputs": [
    {
     "name": "stdout",
     "output_type": "stream",
     "text": [
      "32/32 [==============================] - 0s 13ms/step - loss: 1.2454 - accuracy: 0.5710\n"
     ]
    }
   ],
   "source": [
    "cnn.evaluate(Test_images, Test_labels)"
   ]
  },
  {
   "cell_type": "markdown",
   "metadata": {},
   "source": [
    "An accuracy of 57.1%"
   ]
  },
  {
   "cell_type": "code",
   "execution_count": 35,
   "metadata": {},
   "outputs": [],
   "source": [
    "pred = cnn.predict(Test_images)\n",
    "classes = [np.argmax(element) for element in pred]\n"
   ]
  },
  {
   "cell_type": "markdown",
   "metadata": {},
   "source": [
    "Confusion matrix"
   ]
  },
  {
   "cell_type": "code",
   "execution_count": 34,
   "metadata": {},
   "outputs": [
    {
     "data": {
      "text/plain": [
       "array([[67, 10,  6,  2,  2,  0,  0,  1, 21,  6],\n",
       "       [ 3, 68,  0,  0,  0,  1,  0,  0,  6, 21],\n",
       "       [ 6,  0, 36,  8,  3,  3,  2,  1,  2,  0],\n",
       "       [ 3,  2,  9, 39,  6, 19,  6, 11,  2,  4],\n",
       "       [ 7,  4, 19, 17, 66, 12, 14, 15,  6,  1],\n",
       "       [ 2,  3, 10, 16,  3, 54,  3, 10,  0,  5],\n",
       "       [ 3,  3, 10, 12, 11,  5, 73,  1,  0,  6],\n",
       "       [ 0,  2,  9,  4,  5,  5,  2, 58,  0,  3],\n",
       "       [ 8,  5,  1,  0,  3,  0,  0,  1, 61,  5],\n",
       "       [ 1,  3,  0,  2,  1,  1,  0,  2,  2, 49]], dtype=int64)"
      ]
     },
     "execution_count": 34,
     "metadata": {},
     "output_type": "execute_result"
    }
   ],
   "source": [
    "confusion_matrix(classes, Test_labels)"
   ]
  }
 ],
 "metadata": {
  "kernelspec": {
   "display_name": "Python 3",
   "language": "python",
   "name": "python3"
  },
  "language_info": {
   "codemirror_mode": {
    "name": "ipython",
    "version": 3
   },
   "file_extension": ".py",
   "mimetype": "text/x-python",
   "name": "python",
   "nbconvert_exporter": "python",
   "pygments_lexer": "ipython3",
   "version": "3.8.10"
  }
 },
 "nbformat": 4,
 "nbformat_minor": 4
}
